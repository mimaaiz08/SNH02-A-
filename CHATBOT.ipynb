{
 "cells": [
  {
   "cell_type": "code",
   "execution_count": null,
   "metadata": {},
   "outputs": [],
   "source": [
    "# Description : This program is about Mental Health Support Chatbot"
   ]
  },
  {
   "cell_type": "code",
   "execution_count": 1,
   "metadata": {},
   "outputs": [],
   "source": [
    "# Import the libraries\n",
    "import re\n",
    "import random"
   ]
  },
  {
   "cell_type": "code",
   "execution_count": 2,
   "metadata": {},
   "outputs": [],
   "source": [
    "# Response\n",
    "response = {\n",
    "    \"hello\":[\"Hello, how can i help you?\"],\n",
    "    \"i feel (.*)\":[\"Why do you feel {}?\", \"How long have you been feeling {}?\"],\n",
    "    \"i am (.*)\":[\"Why do you say you're {}?\", \"How long have you been{}?\"],\n",
    "    \"i'm (.*)\":[\"Why are you {}?\", \"How long have you been {}?\"],\n",
    "    \"i (.*) you\":[\"Why do you {} me?\", \"What makes you think you {} me\"],\n",
    "    \"i (.*) myself\":[\"Why do you {} yourself?\", \"What makes you think {} yourself\"],\n",
    "    \"(.*) sorry (.*)\":[\"There is no need to apologize.\", \"Wnat are you apologizeing for?\"],\n",
    "    \"(.*) friend (.*)\":[\"Tell me more about your friend.\", \"How to your friends make you feel?\"],\n",
    "    \"yes\":[\"You seen quiet sure.\", \"ok, but can you elaborate.\"],\n",
    "    \"no\":[\"Why not?\", \"Ok, but can you elaborate a bit?\"],\n",
    "    \" (.*) \":[\"Please tell me more.\", \"Let's change focus a bit... tell me about your family.\", \"Can you elaborate on that?\"],\n",
    "    \"\":[\"Why do you think that?\", \"Please tell me more.\", \"let's change focus a bit... tell me about your family.\", \"Can you elaborate on that?\"],\n",
    "    }"
   ]
  },
  {
   "cell_type": "code",
   "execution_count": 3,
   "metadata": {},
   "outputs": [],
   "source": [
    "# define a function to match the user's input to a pre-defined response\n",
    "def match_response(input_text):\n",
    "  # create a for loop iterate over the itens of the \"response\" dictionary\n",
    "  for pattern,response_list in response.items():\n",
    "    matches=re.match(pattern,input_text.lower())\n",
    "    if matches:\n",
    "      chosen_response=random.choice(response_list)\n",
    "      return chosen_response.format(*matches.groups())\n",
    "\n",
    "  #there is no pattern match so return \"I'm sorry I don't understand what you're saying.\" \n",
    "  return \"I'm sorry I don't understand what you're saying.\"   "
   ]
  },
  {
   "cell_type": "code",
   "execution_count": 5,
   "metadata": {},
   "outputs": [
    {
     "name": "stdout",
     "output_type": "stream",
     "text": [
      "Welcome to the AURUMBOT\n",
      "Aurumbot:Can you elaborate on that?\n",
      "Aurumbot:Why do you think that?\n",
      "Aurumbot:Why do you think that?\n",
      "Aurumbot:Why do you think that?\n",
      "Aurumbot:Why do you think that?\n",
      "Aurumbot:Why do you think that?\n",
      "Aurumbot:Why do you think that?\n",
      "Aurumbot:let's change focus a bit... tell me about your family.\n",
      "Aurumbot:Can you elaborate on that?\n",
      "Aurumbot:Please tell me more.\n",
      "Aurumbot:Can you elaborate on that?\n",
      "Aurumbot:let's change focus a bit... tell me about your family.\n",
      "Aurumbot:Why do you think that?\n",
      "Aurumbot:let's change focus a bit... tell me about your family.\n",
      "Aurumbot:Please tell me more.\n",
      "Aurumbot:let's change focus a bit... tell me about your family.\n",
      "Aurumbot:Why do you think that?\n",
      "Aurumbot:Why do you think that?\n",
      "Aurumbot:let's change focus a bit... tell me about your family.\n",
      "Aurumbot:Why do you think that?\n",
      "Aurumbot:let's change focus a bit... tell me about your family.\n",
      "Aurumbot:Why do you think that?\n",
      "Aurumbot:Can you elaborate on that?\n"
     ]
    }
   ],
   "source": [
    "# Create the main loop to start the Chatbot\n",
    "print(\"Welcome to the AURUMBOT\")\n",
    "while True:\n",
    "  user_input=input(\"You:\")\n",
    "  if user_input.lower()==\"Bye\":\n",
    "    print(\"Aurumbot:Goodbye.\")\n",
    "    break\n",
    "  else:\n",
    "    print(\"Aurumbot:\"+match_response(user_input))\n"
   ]
  },
  {
   "cell_type": "code",
   "execution_count": null,
   "metadata": {},
   "outputs": [],
   "source": []
  }
 ],
 "metadata": {
  "kernelspec": {
   "display_name": "Python 3",
   "language": "python",
   "name": "python3"
  },
  "language_info": {
   "codemirror_mode": {
    "name": "ipython",
    "version": 3
   },
   "file_extension": ".py",
   "mimetype": "text/x-python",
   "name": "python",
   "nbconvert_exporter": "python",
   "pygments_lexer": "ipython3",
   "version": "3.11.6"
  }
 },
 "nbformat": 4,
 "nbformat_minor": 2
}
